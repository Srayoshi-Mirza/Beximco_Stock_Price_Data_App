{
  "nbformat": 4,
  "nbformat_minor": 0,
  "metadata": {
    "colab": {
      "provenance": [],
      "authorship_tag": "ABX9TyOFS7QWBtkoPLPU/AELcpfg",
      "include_colab_link": true
    },
    "kernelspec": {
      "name": "python3",
      "display_name": "Python 3"
    },
    "language_info": {
      "name": "python"
    }
  },
  "cells": [
    {
      "cell_type": "markdown",
      "metadata": {
        "id": "view-in-github",
        "colab_type": "text"
      },
      "source": [
        "<a href=\"https://colab.research.google.com/github/Srayoshi-Mirza/Beximco_Stock_Price_Data_App/blob/main/Beximco_Pharmaceuticals_GDR_Stock_Price_py.ipynb\" target=\"_parent\"><img src=\"https://colab.research.google.com/assets/colab-badge.svg\" alt=\"Open In Colab\"/></a>"
      ]
    },
    {
      "cell_type": "code",
      "execution_count": 16,
      "metadata": {
        "id": "6coKiVpfKrDk"
      },
      "outputs": [],
      "source": [
        "import yfinance as yf"
      ]
    },
    {
      "cell_type": "code",
      "source": [
        "#!pip install -q streamlit"
      ],
      "metadata": {
        "id": "r31cAI4UK08E"
      },
      "execution_count": 17,
      "outputs": []
    },
    {
      "cell_type": "code",
      "source": [
        "import streamlit as st"
      ],
      "metadata": {
        "id": "y6SJ2sUMLM30"
      },
      "execution_count": 18,
      "outputs": []
    },
    {
      "cell_type": "code",
      "source": [
        "import pandas as pd"
      ],
      "metadata": {
        "id": "xU_O9anrK2sr"
      },
      "execution_count": 19,
      "outputs": []
    },
    {
      "cell_type": "code",
      "source": [
        "st.write(\n",
        "\n",
        "\n",
        "         \"\"\"\n",
        "         ##Showcasing Stock price for Beximco Pharmaceuticals GDR\n",
        "\n",
        "         \"\"\"\n",
        ")"
      ],
      "metadata": {
        "id": "sXKZ08cnK4Uj"
      },
      "execution_count": 20,
      "outputs": []
    },
    {
      "cell_type": "code",
      "source": [
        "tickerSymbol ='BXP'\n",
        "tickerData = yf.Ticker(tickerSymbol)\n",
        "tickerDF = tickerData.history(period = '1d', start='2010-9-17', end ='2023-5-31')"
      ],
      "metadata": {
        "id": "tKE9BdETLXJr"
      },
      "execution_count": 21,
      "outputs": []
    },
    {
      "cell_type": "code",
      "source": [
        "st.line_chart(tickerDF.Close)\n",
        "st.line_chart(tickerDF.Volume)"
      ],
      "metadata": {
        "colab": {
          "base_uri": "https://localhost:8080/"
        },
        "id": "ZnNT67DwMFAr",
        "outputId": "5b30cf69-b5ee-4f21-eda1-69e50cb15acb"
      },
      "execution_count": 22,
      "outputs": [
        {
          "output_type": "execute_result",
          "data": {
            "text/plain": [
              "DeltaGenerator()"
            ]
          },
          "metadata": {},
          "execution_count": 22
        }
      ]
    },
    {
      "cell_type": "code",
      "source": [
        "#!npm install -g npm"
      ],
      "metadata": {
        "colab": {
          "base_uri": "https://localhost:8080/"
        },
        "id": "FramxyaUMgJT",
        "outputId": "8a6203a8-d89d-472c-a456-b24997beda9d"
      },
      "execution_count": 23,
      "outputs": [
        {
          "output_type": "stream",
          "name": "stdout",
          "text": [
            "/tools/node/lib/node_modules/npm/lib/es6/validate-engines.js:31\n",
            "    throw err\n",
            "    ^\n",
            "\n",
            "Error: Cannot find module 'timers/promises'\n",
            "Require stack:\n",
            "- /tools/node/lib/node_modules/npm/node_modules/@npmcli/agent/lib/util.js\n",
            "- /tools/node/lib/node_modules/npm/node_modules/@npmcli/agent/lib/index.js\n",
            "- /tools/node/lib/node_modules/npm/node_modules/make-fetch-happen/lib/remote.js\n",
            "- /tools/node/lib/node_modules/npm/node_modules/make-fetch-happen/lib/cache/entry.js\n",
            "- /tools/node/lib/node_modules/npm/node_modules/make-fetch-happen/lib/cache/index.js\n",
            "- /tools/node/lib/node_modules/npm/node_modules/make-fetch-happen/lib/fetch.js\n",
            "- /tools/node/lib/node_modules/npm/node_modules/make-fetch-happen/lib/index.js\n",
            "- /tools/node/lib/node_modules/npm/node_modules/npm-registry-fetch/lib/index.js\n",
            "- /tools/node/lib/node_modules/npm/lib/utils/replace-info.js\n",
            "- /tools/node/lib/node_modules/npm/lib/utils/error-message.js\n",
            "- /tools/node/lib/node_modules/npm/lib/utils/exit-handler.js\n",
            "- /tools/node/lib/node_modules/npm/lib/cli-entry.js\n",
            "- /tools/node/lib/node_modules/npm/lib/cli.js\n",
            "- /tools/node/lib/node_modules/npm/bin/npm-cli.js\n",
            "\u001b[90m    at Function.Module._resolveFilename (internal/modules/cjs/loader.js:880:15)\u001b[39m\n",
            "\u001b[90m    at Function.Module._load (internal/modules/cjs/loader.js:725:27)\u001b[39m\n",
            "\u001b[90m    at Module.require (internal/modules/cjs/loader.js:952:19)\u001b[39m\n",
            "\u001b[90m    at require (internal/modules/cjs/helpers.js:88:18)\u001b[39m\n",
            "    at Object.<anonymous> (/tools/node/lib/node_modules/\u001b[4mnpm\u001b[24m/node_modules/\u001b[4m@npmcli\u001b[24m/agent/lib/util.js:3:16)\n",
            "\u001b[90m    at Module._compile (internal/modules/cjs/loader.js:1063:30)\u001b[39m\n",
            "\u001b[90m    at Object.Module._extensions..js (internal/modules/cjs/loader.js:1092:10)\u001b[39m\n",
            "\u001b[90m    at Module.load (internal/modules/cjs/loader.js:928:32)\u001b[39m\n",
            "\u001b[90m    at Function.Module._load (internal/modules/cjs/loader.js:769:14)\u001b[39m\n",
            "\u001b[90m    at Module.require (internal/modules/cjs/loader.js:952:19)\u001b[39m {\n",
            "  code: \u001b[32m'MODULE_NOT_FOUND'\u001b[39m,\n",
            "  requireStack: [\n",
            "    \u001b[32m'/tools/node/lib/node_modules/npm/node_modules/@npmcli/agent/lib/util.js'\u001b[39m,\n",
            "    \u001b[32m'/tools/node/lib/node_modules/npm/node_modules/@npmcli/agent/lib/index.js'\u001b[39m,\n",
            "    \u001b[32m'/tools/node/lib/node_modules/npm/node_modules/make-fetch-happen/lib/remote.js'\u001b[39m,\n",
            "    \u001b[32m'/tools/node/lib/node_modules/npm/node_modules/make-fetch-happen/lib/cache/entry.js'\u001b[39m,\n",
            "    \u001b[32m'/tools/node/lib/node_modules/npm/node_modules/make-fetch-happen/lib/cache/index.js'\u001b[39m,\n",
            "    \u001b[32m'/tools/node/lib/node_modules/npm/node_modules/make-fetch-happen/lib/fetch.js'\u001b[39m,\n",
            "    \u001b[32m'/tools/node/lib/node_modules/npm/node_modules/make-fetch-happen/lib/index.js'\u001b[39m,\n",
            "    \u001b[32m'/tools/node/lib/node_modules/npm/node_modules/npm-registry-fetch/lib/index.js'\u001b[39m,\n",
            "    \u001b[32m'/tools/node/lib/node_modules/npm/lib/utils/replace-info.js'\u001b[39m,\n",
            "    \u001b[32m'/tools/node/lib/node_modules/npm/lib/utils/error-message.js'\u001b[39m,\n",
            "    \u001b[32m'/tools/node/lib/node_modules/npm/lib/utils/exit-handler.js'\u001b[39m,\n",
            "    \u001b[32m'/tools/node/lib/node_modules/npm/lib/cli-entry.js'\u001b[39m,\n",
            "    \u001b[32m'/tools/node/lib/node_modules/npm/lib/cli.js'\u001b[39m,\n",
            "    \u001b[32m'/tools/node/lib/node_modules/npm/bin/npm-cli.js'\u001b[39m\n",
            "  ]\n",
            "}\n"
          ]
        }
      ]
    },
    {
      "cell_type": "code",
      "source": [
        "#!npm install localtunnel"
      ],
      "metadata": {
        "colab": {
          "base_uri": "https://localhost:8080/"
        },
        "id": "_LTpRgjdMTVi",
        "outputId": "b57c470c-10da-43bb-e82a-3656d4d04d9b"
      },
      "execution_count": 24,
      "outputs": [
        {
          "output_type": "stream",
          "name": "stdout",
          "text": [
            "/tools/node/lib/node_modules/npm/lib/es6/validate-engines.js:31\n",
            "    throw err\n",
            "    ^\n",
            "\n",
            "Error: Cannot find module 'timers/promises'\n",
            "Require stack:\n",
            "- /tools/node/lib/node_modules/npm/node_modules/@npmcli/agent/lib/util.js\n",
            "- /tools/node/lib/node_modules/npm/node_modules/@npmcli/agent/lib/index.js\n",
            "- /tools/node/lib/node_modules/npm/node_modules/make-fetch-happen/lib/remote.js\n",
            "- /tools/node/lib/node_modules/npm/node_modules/make-fetch-happen/lib/cache/entry.js\n",
            "- /tools/node/lib/node_modules/npm/node_modules/make-fetch-happen/lib/cache/index.js\n",
            "- /tools/node/lib/node_modules/npm/node_modules/make-fetch-happen/lib/fetch.js\n",
            "- /tools/node/lib/node_modules/npm/node_modules/make-fetch-happen/lib/index.js\n",
            "- /tools/node/lib/node_modules/npm/node_modules/npm-registry-fetch/lib/index.js\n",
            "- /tools/node/lib/node_modules/npm/lib/utils/replace-info.js\n",
            "- /tools/node/lib/node_modules/npm/lib/utils/error-message.js\n",
            "- /tools/node/lib/node_modules/npm/lib/utils/exit-handler.js\n",
            "- /tools/node/lib/node_modules/npm/lib/cli-entry.js\n",
            "- /tools/node/lib/node_modules/npm/lib/cli.js\n",
            "- /tools/node/lib/node_modules/npm/bin/npm-cli.js\n",
            "\u001b[90m    at Function.Module._resolveFilename (internal/modules/cjs/loader.js:880:15)\u001b[39m\n",
            "\u001b[90m    at Function.Module._load (internal/modules/cjs/loader.js:725:27)\u001b[39m\n",
            "\u001b[90m    at Module.require (internal/modules/cjs/loader.js:952:19)\u001b[39m\n",
            "\u001b[90m    at require (internal/modules/cjs/helpers.js:88:18)\u001b[39m\n",
            "    at Object.<anonymous> (/tools/node/lib/node_modules/\u001b[4mnpm\u001b[24m/node_modules/\u001b[4m@npmcli\u001b[24m/agent/lib/util.js:3:16)\n",
            "\u001b[90m    at Module._compile (internal/modules/cjs/loader.js:1063:30)\u001b[39m\n",
            "\u001b[90m    at Object.Module._extensions..js (internal/modules/cjs/loader.js:1092:10)\u001b[39m\n",
            "\u001b[90m    at Module.load (internal/modules/cjs/loader.js:928:32)\u001b[39m\n",
            "\u001b[90m    at Function.Module._load (internal/modules/cjs/loader.js:769:14)\u001b[39m\n",
            "\u001b[90m    at Module.require (internal/modules/cjs/loader.js:952:19)\u001b[39m {\n",
            "  code: \u001b[32m'MODULE_NOT_FOUND'\u001b[39m,\n",
            "  requireStack: [\n",
            "    \u001b[32m'/tools/node/lib/node_modules/npm/node_modules/@npmcli/agent/lib/util.js'\u001b[39m,\n",
            "    \u001b[32m'/tools/node/lib/node_modules/npm/node_modules/@npmcli/agent/lib/index.js'\u001b[39m,\n",
            "    \u001b[32m'/tools/node/lib/node_modules/npm/node_modules/make-fetch-happen/lib/remote.js'\u001b[39m,\n",
            "    \u001b[32m'/tools/node/lib/node_modules/npm/node_modules/make-fetch-happen/lib/cache/entry.js'\u001b[39m,\n",
            "    \u001b[32m'/tools/node/lib/node_modules/npm/node_modules/make-fetch-happen/lib/cache/index.js'\u001b[39m,\n",
            "    \u001b[32m'/tools/node/lib/node_modules/npm/node_modules/make-fetch-happen/lib/fetch.js'\u001b[39m,\n",
            "    \u001b[32m'/tools/node/lib/node_modules/npm/node_modules/make-fetch-happen/lib/index.js'\u001b[39m,\n",
            "    \u001b[32m'/tools/node/lib/node_modules/npm/node_modules/npm-registry-fetch/lib/index.js'\u001b[39m,\n",
            "    \u001b[32m'/tools/node/lib/node_modules/npm/lib/utils/replace-info.js'\u001b[39m,\n",
            "    \u001b[32m'/tools/node/lib/node_modules/npm/lib/utils/error-message.js'\u001b[39m,\n",
            "    \u001b[32m'/tools/node/lib/node_modules/npm/lib/utils/exit-handler.js'\u001b[39m,\n",
            "    \u001b[32m'/tools/node/lib/node_modules/npm/lib/cli-entry.js'\u001b[39m,\n",
            "    \u001b[32m'/tools/node/lib/node_modules/npm/lib/cli.js'\u001b[39m,\n",
            "    \u001b[32m'/tools/node/lib/node_modules/npm/bin/npm-cli.js'\u001b[39m\n",
            "  ]\n",
            "}\n"
          ]
        }
      ]
    },
    {
      "cell_type": "code",
      "source": [
        "#!streamlit run Beximco Pharmaceuticals GDR Stock Price.py &>/content/logs.txt"
      ],
      "metadata": {
        "id": "oeRzig8bMknL"
      },
      "execution_count": 25,
      "outputs": []
    },
    {
      "cell_type": "code",
      "source": [],
      "metadata": {
        "id": "GmkRMLOwM0Cq"
      },
      "execution_count": 25,
      "outputs": []
    }
  ]
}